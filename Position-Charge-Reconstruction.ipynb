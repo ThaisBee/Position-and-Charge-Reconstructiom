{
 "cells": [
  {
   "cell_type": "markdown",
   "metadata": {},
   "source": [
    "# Comparing different methods of position reconstruction considering 1D readout of GEM detectors\n",
    "\n"
   ]
  },
  {
   "cell_type": "code",
   "execution_count": 43,
   "metadata": {},
   "outputs": [],
   "source": [
    "import pandas as pd\n",
    "import numpy as np\n",
    "import math\n",
    "from scipy.integrate import quad\n",
    "from scipy.optimize import curve_fit\n",
    "from scipy.interpolate import interp1d\n",
    "\n",
    "import matplotlib.pyplot as plt\n",
    "from matplotlib import container\n",
    "import matplotlib.patches as mpatches\n",
    "import matplotlib.transforms as transforms\n",
    "from matplotlib.ticker import (AutoMinorLocator, MultipleLocator)\n",
    "import matplotlib.cm as cm"
   ]
  },
  {
   "cell_type": "markdown",
   "metadata": {},
   "source": [
    "## Auxiliar functions\n",
    "The class **one_significant_digit** is used to format a number in a string with one significant digit considering its uncertainty. This class was used in the legend of the graph \"Electron cloud projected in x direction\"."
   ]
  },
  {
   "cell_type": "code",
   "execution_count": 2,
   "metadata": {},
   "outputs": [],
   "source": [
    "class one_significant_digit:\n",
    "    def __init__(self,value,svalue):\n",
    "        self.value=value\n",
    "        self.svalue=svalue\n",
    "    def uncertanty(self):\n",
    "        s=\"%.2g\"%(self.svalue)\n",
    "        i=s.find('.')\n",
    "        f=len(s)\n",
    "        if i!=-1:\n",
    "            n=f-i-1\n",
    "            if n==1 and self.svalue <1: n=n+1\n",
    "            decimals=\"%0.\"+str(n)+\"f\"\n",
    "            final_svalue=decimals % (self.svalue)\n",
    "        if i==-1:  \n",
    "            if len(s)==1: \n",
    "                n=1\n",
    "                decimals=\"%0.\"+str(n)+\"f\"\n",
    "                final_svalue=decimals % (self.svalue)\n",
    "            else:\n",
    "                n=0\n",
    "                decimals=\"%0.\"+str(n)+\"f\"\n",
    "                final_svalue=decimals % (self.svalue)            \n",
    "        return final_svalue,decimals,n\n",
    "    def format1(self):\n",
    "        final_svalue,decimals,n=self.uncertanty()\n",
    "        return decimals%self.value+'#'+final_svalue\n",
    "    def format2(self):\n",
    "        final_svalue,decimals,n=self.uncertanty()\n",
    "        return decimals%self.value+'('+\"%1.0f\"%(float(final_svalue)*10**n)+\")\""
   ]
  },
  {
   "cell_type": "markdown",
   "metadata": {},
   "source": [
    "## Readout geometry\n",
    "\n",
    "1. Chose the parameters for the width and pitch of the strips\n",
    "2. Define where the strip centers are going to be generated\n",
    "3. Define where the electron clouds are going to be generated\n"
   ]
  },
  {
   "cell_type": "markdown",
   "metadata": {},
   "source": [
    "#### 1. Chose the parameters for the width and pitch of the strips\n"
   ]
  },
  {
   "cell_type": "code",
   "execution_count": 3,
   "metadata": {},
   "outputs": [],
   "source": [
    "strip_width=0.2#(mm). \n",
    "pitch=100/256#(mm)."
   ]
  },
  {
   "cell_type": "markdown",
   "metadata": {},
   "source": [
    "#### 2. Define where the strip centers are going to be generated\n",
    "\n",
    "The first_strip_pos is the first position for the first strip. We can have strips in the region given by:  **first_strip_pos<= p < last_strip_pos**. \n",
    "\n",
    "The strip_centers list define the position **p** of the strip centers.\n"
   ]
  },
  {
   "cell_type": "code",
   "execution_count": 4,
   "metadata": {},
   "outputs": [],
   "source": [
    "first_strip_pos=-5#(mm)\n",
    "last_strip_pos=5#(mm)\n",
    "strip_centers=np.arange(first_strip_pos,last_strip_pos,pitch)"
   ]
  },
  {
   "cell_type": "markdown",
   "metadata": {},
   "source": [
    "#### 3. Define where the electron clouds are going to be generated\n",
    "\n",
    "The first_cloud_pos is the first position for the first electron cloud. We can have clouds in the region given by: **first_cloud_pos<= $\\mu$ <last_cloud_pos**\n",
    "\n",
    "The electron_cloud_centers list define the position **$\\mu$** of the cloud centers.\n"
   ]
  },
  {
   "cell_type": "code",
   "execution_count": 5,
   "metadata": {},
   "outputs": [],
   "source": [
    "first_cloud_pos=-2*pitch#(mm)\n",
    "last_cloud_pos=2*pitch#(mm)\n",
    "electron_cloud_centers=np.arange(first_cloud_pos,last_cloud_pos,pitch/10)"
   ]
  },
  {
   "cell_type": "markdown",
   "metadata": {},
   "source": [
    "## Clustering Algorithm\n",
    "\n",
    "A clustering algorithm is used to identify the strips corresponding to charges that came from the electron cloud. The algorithm first looks for a strip whose signal is above a defined seed value, 0.08 AU in this work, to find a strip that definitely contains a signal.\n",
    "\n",
    "Then, starting from this seed strip, the algorithm scans in both directions to construct a cluster. The scan stops when it finds a strip that collected less charge than the threshold, a negative charge in this case, which means just noise. So we are going to find the positions $n_{1}$ and $n_{2}$. Which $n_{1}$ represents the first strip of the cluster and $n_{2}$ the last one.\n",
    "\n",
    "1. Chose the parameters for the clustering algorithm\n",
    "2. Input: Parameters defined in item 1., list with the charge collected by each strip and strip centers.\n",
    "3. Output: List with the charge collected by each strip and strip of the cluster"
   ]
  },
  {
   "cell_type": "markdown",
   "metadata": {},
   "source": [
    "#### 1. Chose the parameters for the clustering algorithm"
   ]
  },
  {
   "cell_type": "code",
   "execution_count": 6,
   "metadata": {},
   "outputs": [],
   "source": [
    "seed=0.08#(AU)\n",
    "threshold=0#(AU)"
   ]
  },
  {
   "cell_type": "code",
   "execution_count": 7,
   "metadata": {},
   "outputs": [],
   "source": [
    "class Cluster:\n",
    "    def __init__(self,seed,threshold,Charges,Positions):\n",
    "        self.seed=seed\n",
    "        self.Q=Charges\n",
    "        self.P=Positions\n",
    "        self.zero=threshold\n",
    "        \n",
    "    def find_seed(self):\n",
    "        i=0\n",
    "        Qi=self.Q[i]\n",
    "        while Qi<self.seed:\n",
    "            i=i+1\n",
    "            Qi=self.Q[i]\n",
    "        seed_index=i\n",
    "        return seed_index\n",
    "    \n",
    "    def scans_left(self,n1):\n",
    "        Qleft=self.Q[n1]\n",
    "        while Qleft>self.zero and n1!=0:\n",
    "                n1=n1-1\n",
    "                Qleft=self.Q[n1]      \n",
    "        if Qleft>self.zero:\n",
    "            return n1\n",
    "        else:\n",
    "            n1=n1+1 \n",
    "            return n1\n",
    "        \n",
    "    def scans_right(self,n2): \n",
    "        Qright=self.Q[n2] \n",
    "        last_index=len(self.Q)-1\n",
    "        while Qright>self.zero and n2<last_index:\n",
    "            n2=n2+1\n",
    "            Qright=self.Q[n2]\n",
    "        if Qright>self.zero:\n",
    "            return n2\n",
    "        else: \n",
    "            n2=n2-1\n",
    "            return n2\n",
    "        \n",
    "    def Find_Cluster(self):\n",
    "        if (len([k for k in self.Q if k>self.seed])==0):\n",
    "            raise NameError(\"All strips collected less charge than the seed value\")\n",
    "        seed_index=self.find_seed()\n",
    "        n1=seed_index\n",
    "        n2=seed_index\n",
    "        last_index=len(self.Q)-1\n",
    "        '''We considered three cases for the seed_index, the seed_index equals to: the index of the first strip,\n",
    "        equals to the index of the last strip, and between them.'''\n",
    "        if seed_index>0 and seed_index<last_index:\n",
    "            n1=self.scans_left(seed_index-1)\n",
    "            n2=self.scans_right(seed_index+1)\n",
    "        elif seed_index==0:\n",
    "            n1=0\n",
    "            n2=self.scans_right(seed_index+1)\n",
    "        elif seed_index==last_index:\n",
    "            n2=last_index \n",
    "            n1=self.scans_left(n2) \n",
    "            \n",
    "        if n1!=n2:\n",
    "            n2=n2+1\n",
    "            P_Cluster=self.P[n1:n2]\n",
    "            Q_Cluster=self.Q[n1:n2]\n",
    "        else:\n",
    "            #when n1=n2, we create an array with a single element in it\n",
    "            P_Cluster=np.zeros(1)\n",
    "            Q_Cluster=np.zeros(1)\n",
    "            P_Cluster[0]=self.P[n1]\n",
    "            Q_Cluster[0]=self.Q[n1]    \n",
    "        return Q_Cluster,P_Cluster"
   ]
  },
  {
   "cell_type": "markdown",
   "metadata": {},
   "source": [
    "#### 2. Input: Parameters defined in item 1., list with the charge collected by each strip, and list with strip centers.\n",
    "\n",
    "\n",
    "**Input Example:**\n"
   ]
  },
  {
   "cell_type": "code",
   "execution_count": 8,
   "metadata": {
    "scrolled": false
   },
   "outputs": [
    {
     "data": {
      "image/png": "[encoded data removed]",
      "text/plain": [
       "<Figure size 432x288 with 1 Axes>"
      ]
     },
     "metadata": {
      "needs_background": "light"
     },
     "output_type": "display_data"
    }
   ],
   "source": [
    "Positions=[-5.,-4.609375,-4.21875,-3.828125,-3.4375,-3.046875,-2.65625,-2.265625,-1.875,-1.484375,-1.09375,-0.703125,-0.3125,0.078125,0.46875,0.859375,1.25,1.640625,2.03125,2.421875,2.8125,3.203125,3.59375,3.984375,4.375,4.765625]\n",
    "Charges=[-1.03914081e-03,1.09993525e-02,-7.29634817e-04,1.61512445e-03,3.03397209e-03,-1.28861052e-02,-1.95896215e-02,-1.01560310e-03,3.05840526e-04,4.84257401e-03,1.47319283e-01,3.41579687e-01,3.30470980e-02,1.79656041e-02,-7.49669035e-04,3.72049140e-04,-2.55898026e-03,6.84065913e-03,1.70936534e-03,6.48918403e-03,-6.32020983e-04,1.31020079e-02,-1.22746997e-02,5.54564277e-03,7.70664978e-03,8.10971044e-04]\n",
    "fig, ax = plt.subplots()\n",
    "plt.axhline(seed,label=\"Seed\", linestyle=(0,(5,10)),color=\"green\",linewidth=1.0)\n",
    "plt.axhline(threshold,label=\"Threshold\",color=\"red\",linewidth=1.0)\n",
    "ax.plot(Positions,Charges,\"o\")\n",
    "plt.legend(loc=\"upper right\")\n",
    "plt.show()"
   ]
  },
  {
   "cell_type": "markdown",
   "metadata": {},
   "source": [
    "#### 3. Output: List with the charge collected by each strip and strip of the cluster\n",
    "\n",
    "**Output Example:**\n"
   ]
  },
  {
   "cell_type": "code",
   "execution_count": 9,
   "metadata": {
    "scrolled": true
   },
   "outputs": [
    {
     "data": {
      "image/png": "[encoded data removed]",
      "text/plain": [
       "<Figure size 432x288 with 1 Axes>"
      ]
     },
     "metadata": {
      "needs_background": "light"
     },
     "output_type": "display_data"
    }
   ],
   "source": [
    "myCluster=Cluster(seed,threshold,Charges,Positions)\n",
    "Q_Cluster,P_Cluster=myCluster.Find_Cluster()\n",
    "fig, ax = plt.subplots()\n",
    "plt.axhline(seed,label=\"Seed\", linestyle=(0,(5,10)),color=\"green\",linewidth=1.0)\n",
    "plt.axhline(threshold,label=\"Threshold\",color=\"red\",linewidth=1.0)\n",
    "ax.plot(Positions,Charges,\"o\",markersize=5)\n",
    "ax.plot(P_Cluster,Q_Cluster,\"*\",markersize=9,label=\"Cluster\")\n",
    "plt.legend(loc=\"upper right\")\n",
    "plt.show()"
   ]
  },
  {
   "cell_type": "markdown",
   "metadata": {},
   "source": [
    "## Charge collected by each strip \n",
    "\n",
    "The clas strips integrator has methods which give us the charge collected by each strip j with L width.\n",
    "\n",
    "Input:\n",
    "Cloud modeled as a gaussian normalized funtion\n",
    "\n",
    "$$\\begin{equation}\n",
    "q_{j}=\\int_{x_{j}-L / 2}^{x_{j}+L / 2} Gauss(x) d x\n",
    "\\end{equation}$$\n",
    "\n",
    "Cloud modeled as a normal distribution (discrete data separeted in bins)\n",
    "\n",
    "\\begin{equation}\n",
    "q_{j} =\\sum _{L}q_{bin}Bin\n",
    "\\end{equation}"
   ]
  },
  {
   "cell_type": "code",
   "execution_count": 44,
   "metadata": {},
   "outputs": [],
   "source": [
    "class Strips_Integrator:\n",
    "    def __init__(self,strip_width,pitch,Position_strips):\n",
    "        self.strip_width=strip_width\n",
    "        self.pitch=pitch\n",
    "        self.Position_strips=Position_strips\n",
    "        \n",
    "    def Normal(self,x,s,u):\n",
    "        return (1/(s*np.sqrt(2*math.pi)))*math.exp( -((x-u)**2) / (2*s**2)  )\n",
    "    \n",
    "    def IntegraStrip(self,p,s,u):\n",
    "        I = quad(self.Normal, p-self.strip_width/2, p+self.strip_width/2, args=(s,u))\n",
    "        return I[0]\n",
    "\n",
    "    def Charge_Strip(self,s,u):\n",
    "        Charges_strips=[self.IntegraStrip(p,s,u) for p in self.Position_strips]\n",
    "        return Charges_strips\n",
    "    \n",
    "    def IntegraBins_Strip(self,p,x_coordinate,charge_fraction):\n",
    "        strip_begin=p-self.strip_width/2\n",
    "        strip_end=p+self.strip_width/2\n",
    "        last_index_x=len(x_coordinate)-1\n",
    "    \n",
    "        #strips out of the electron cloud range are going to be considered as zero charge strips\n",
    "        if (strip_end)<x_coordinate[0]:\n",
    "            return 0\n",
    "        if (strip_begin)>x_coordinate[last_index_x]:\n",
    "            return 0\n",
    "        i=0\n",
    "        I=0\n",
    "        while i<(last_index_x) and x_coordinate[i] < (strip_end): \n",
    "            if x_coordinate[i]>(strip_begin) and x_coordinate[i]<(strip_end):\n",
    "                I=I+charge_fraction[i]*(x_coordinate[i+1]-x_coordinate[i])  \n",
    "            i=i+1\n",
    "        return I\n",
    "        \n",
    "    def ChargeBins_Strip(self,x_coordinate,charge_fraction):\n",
    "        Charges_strips=[self.IntegraBins_Strip(p,x_coordinate,charge_fraction) for p in self.Position_strips]\n",
    "        return Charges_strips\n",
    " "
   ]
  },
  {
   "cell_type": "markdown",
   "metadata": {},
   "source": [
    "### Methods for position reconstruction \n",
    "$$\\begin{equation}\n",
    "P_{lin}=\\frac{\\sum ^{n_2}_{j=n_1} {Q}_{j}x_j}{\\sum ^{n_2}_{j=n_1} {Q}_{j}}\n",
    "\\end{equation}$$\n",
    "\n",
    "$$\\begin{equation}\n",
    "P_{sq}=\\frac{\\sum ^{n_2}_{j=n_1}( {Q}_{j})^{2}x_j}{\\sum ^{n_2}_{j=n_1}( {Q}_{j})^{2}}\n",
    "\\end{equation}$$\n",
    "\n",
    "$$\\begin{equation}\n",
    "P_{log}=\\frac{\\sum ^{n_2}_{j=n_1}ln\\left( {Q}_{j}+1\\right)x_j}{\\sum ^{n_2}_{j=n_1}ln\\left( {Q}_{j}+1\\right)}\n",
    "\\end{equation}$$\n"
   ]
  },
  {
   "cell_type": "code",
   "execution_count": 11,
   "metadata": {},
   "outputs": [],
   "source": [
    "class Position_Reconstruction:\n",
    "    def __init__(self,Charges,Positions):\n",
    "        self.StripCharges=Charges\n",
    "        self.StripPositions=Positions\n",
    "        \n",
    "    def linear(self):\n",
    "        return sum(self.StripCharges*self.StripPositions)/sum(self.StripCharges)\n",
    "    \n",
    "    def quadratic(self):\n",
    "        return sum((self.StripCharges**2)*self.StripPositions)/sum(self.StripCharges**2)\n",
    "    \n",
    "    def logarithmic(self):\n",
    "        charges=[np.log(k+1) for k in self.StripCharges]\n",
    "        return sum(charges*self.StripPositions)/sum(charges)"
   ]
  },
  {
   "cell_type": "markdown",
   "metadata": {},
   "source": [
    "## Monte Carlo\n",
    "### Noise considered in Monte Carlo\n",
    "Sigma is the standard deviation for a gaussian distribution. The noise affecting each strip is represented for a value drawn from these distribution.\n",
    "\n",
    "\\begin{equation}\n",
    "Q_{j}=q_{j}+Random.Gauss(\\sigma _{r})\n",
    "\\end{equation}\n",
    "\n",
    "### Total charge of a clusterized electron cloud\n",
    "\n",
    "\\begin{equation}\n",
    "Q_{Total}\\left( \\mu \\right) =\\sum ^{n_{2}}_{j=n_{1}}Q_{j}\n",
    "\\end{equation}\n",
    "\n",
    "\n",
    "### Error of position reconstruction\n",
    "\n",
    "The error is calculated for the three different methods of position reconstruction\n",
    "\n",
    "$$\\begin{equation}\n",
    "Error(\\mu)=P-\\mu\n",
    "\\end{equation}$$\n",
    "\n",
    "\n",
    "### The Monte Carlo calculates N events for charge reconstrucion and errors of the position reconstruction, then it returns:\n",
    "\n",
    "#### output\n",
    "\n",
    "* Mean values:\n",
    "\\begin{equation}\n",
    "\\overline{Q_{Total}}\\left( \\mu \\right) =\\frac{1}{N}\\sum ^{N}_{i}(Q_{Total})_i\\left( \\mu \\right)\n",
    "\\end{equation}\n",
    "\n",
    "For the three methods of position reconstruction considered:\n",
    "\\begin{equation}\n",
    "\\overline{Error}(\\mu)=\\frac{1}{N}\\sum ^{N}_{i}Error_{i}(\\mu)\n",
    "\\end{equation}\n",
    "\n",
    "* Standard deviation of the mean values:\n",
    "\n",
    "$$\\overline{\\sigma}_\\overline{Q_{Total}} = \\sqrt{\\frac{1}{N-1} \\sum_{i=1}^N ((Q_{Total})_i - \\overline{Q_{Total}})^2}$$\n",
    "\n",
    "For the three methods of position reconstruction considered:\n",
    "\n",
    "\n",
    "$$\\overline{\\sigma}_{\\overline{Error}} = \\sqrt{\\frac{1}{N-1} \\sum_{i=1}^N (Error_i - \\overline{ Error})^2}$$\n",
    "\n"
   ]
  },
  {
   "cell_type": "code",
   "execution_count": 12,
   "metadata": {},
   "outputs": [],
   "source": [
    "snoise=0.01\n",
    "N=1000"
   ]
  },
  {
   "cell_type": "code",
   "execution_count": 13,
   "metadata": {},
   "outputs": [],
   "source": [
    "def Monte_Carlo(sig_noise,N,u,Charge_strip,Position_strip,seed,threshold):\n",
    "    Data=[]                           \n",
    "    for i in range(N):\n",
    "        Noise=np.random.normal(0,sig_noise,len(Charge_strip))\n",
    "        Charge_strip_noise=Charge_strip+Noise\n",
    "        Charge_Cluster,Position_Cluster=Cluster(seed,threshold,Charge_strip_noise,Position_strip).Find_Cluster()\n",
    "        Data.append([sum(Charge_Cluster),Position_Reconstruction(Charge_Cluster,Position_Cluster).linear()-u,Position_Reconstruction(Charge_Cluster,Position_Cluster).quadratic()-u,Position_Reconstruction(Charge_Cluster,Position_Cluster).logarithmic()-u])  \n",
    "    df=pd.DataFrame(Data, columns=[\"Q\",\"E_linear\",\"E_quadratic\",\"E_logarithmic\"])\n",
    "    \n",
    "    Charge_mean=np.mean(df['Q'])\n",
    "    E_linear=np.mean(df['E_linear'])\n",
    "    E_quadratic=np.mean(df['E_quadratic'])\n",
    "    E_logarithmic=np.mean(df['E_logarithmic'])\n",
    "    \n",
    "    sCharge=np.std(df['Q'],ddof=1)/np.sqrt(N)\n",
    "    sE_linear=np.std(df['E_linear'],ddof=1)/np.sqrt(N)\n",
    "    sE_quadratic=np.std(df['E_quadratic'],ddof=1)/np.sqrt(N)   \n",
    "    sE_logarithmic=np.std(df['E_logarithmic'],ddof=1)/np.sqrt(N)\n",
    "    \n",
    "    return Charge_mean,sCharge,E_linear,sE_linear,E_quadratic,sE_quadratic,E_logarithmic,sE_logarithmic  "
   ]
  },
  {
   "cell_type": "markdown",
   "metadata": {},
   "source": [
    "# Models for the electron cloud\n",
    "\n",
    "## Analytical Model\n",
    "\n",
    "\n",
    "The electron cloud was modeled as an gaussian distribution normalized, as shown by the following equation:\n",
    "\n",
    " $$Gauss(x) = \\frac{1}{{\\sigma \\sqrt {2\\pi } }}e^{ {- \\left( {x - \\mu } \\right)^2}/{2\\sigma ^2} }$$\n",
    " \n",
    "Now we are just organazing the data in a DataFrame. We are calculating the data for the colected charge and \n",
    "the Errors whith linear, quadratic and logarithmic weights, considering different sigmas for the gaussian that \n",
    "stands for the electron cloud\n"
   ]
  },
  {
   "cell_type": "code",
   "execution_count": 14,
   "metadata": {},
   "outputs": [],
   "source": [
    "#list of standard deviations for the electron clouds modeled as gaussians\n",
    "slist=[0.2,0.25,0.3,0.35,0.4]\n"
   ]
  },
  {
   "cell_type": "code",
   "execution_count": 20,
   "metadata": {},
   "outputs": [],
   "source": [
    "def Dataframe(strip_width,pitch,slist,snoise,N,Position_strips,electron_cloud_centers,seed,threshold):\n",
    "    Data=[]\n",
    "    for s in slist:\n",
    "        for u in electron_cloud_centers:\n",
    "            Charge_strips=Strips_Integrator(strip_width,pitch,Position_strips).Charge_Strip(s,u)\n",
    "            Charge,sCharge,E_linear,sE_linear,E_quadratic,sE_quadratic,E_logarithmic,sE_logarithmic=Monte_Carlo(snoise,N,u,Charge_strips,Position_strips,seed,threshold)\n",
    "            Data.append([s,u,Charge,sCharge,E_linear,sE_linear,E_quadratic,sE_quadratic,E_logarithmic,sE_logarithmic])\n",
    "    df = pd.DataFrame(Data, columns=[\"s\",\"u\",\"Q\",\"sQ\",\"E_linear\",\"sE_linear\",\"E_quadratic\",\"sE_quadratic\",\"E_logarithmic\",\"sE_logarithmic\"])\n",
    "    return df"
   ]
  },
  {
   "cell_type": "code",
   "execution_count": 21,
   "metadata": {},
   "outputs": [
    {
     "data": {
      "text/html": [
       "<div>\n",
       "<style scoped>\n",
       "    .dataframe tbody tr th:only-of-type {\n",
       "        vertical-align: middle;\n",
       "    }\n",
       "\n",
       "    .dataframe tbody tr th {\n",
       "        vertical-align: top;\n",
       "    }\n",
       "\n",
       "    .dataframe thead th {\n",
       "        text-align: right;\n",
       "    }\n",
       "</style>\n",
       "<table border=\"1\" class=\"dataframe\">\n",
       "  <thead>\n",
       "    <tr style=\"text-align: right;\">\n",
       "      <th></th>\n",
       "      <th>s</th>\n",
       "      <th>u</th>\n",
       "      <th>Q</th>\n",
       "      <th>sQ</th>\n",
       "      <th>E_linear</th>\n",
       "      <th>sE_linear</th>\n",
       "      <th>E_quadratic</th>\n",
       "      <th>sE_quadratic</th>\n",
       "      <th>E_logarithmic</th>\n",
       "      <th>sE_logarithmic</th>\n",
       "    </tr>\n",
       "  </thead>\n",
       "  <tbody>\n",
       "    <tr>\n",
       "      <th>0</th>\n",
       "      <td>0.2</td>\n",
       "      <td>-0.781250</td>\n",
       "      <td>0.527866</td>\n",
       "      <td>0.000774</td>\n",
       "      <td>0.004960</td>\n",
       "      <td>0.001598</td>\n",
       "      <td>0.038511</td>\n",
       "      <td>0.000224</td>\n",
       "      <td>0.001256</td>\n",
       "      <td>0.001770</td>\n",
       "    </tr>\n",
       "    <tr>\n",
       "      <th>1</th>\n",
       "      <td>0.2</td>\n",
       "      <td>-0.742188</td>\n",
       "      <td>0.530752</td>\n",
       "      <td>0.000772</td>\n",
       "      <td>0.005066</td>\n",
       "      <td>0.001481</td>\n",
       "      <td>0.022216</td>\n",
       "      <td>0.000188</td>\n",
       "      <td>0.003101</td>\n",
       "      <td>0.001650</td>\n",
       "    </tr>\n",
       "    <tr>\n",
       "      <th>2</th>\n",
       "      <td>0.2</td>\n",
       "      <td>-0.703125</td>\n",
       "      <td>0.530757</td>\n",
       "      <td>0.000774</td>\n",
       "      <td>-0.000446</td>\n",
       "      <td>0.001598</td>\n",
       "      <td>-0.000140</td>\n",
       "      <td>0.000169</td>\n",
       "      <td>-0.000488</td>\n",
       "      <td>0.001781</td>\n",
       "    </tr>\n",
       "    <tr>\n",
       "      <th>3</th>\n",
       "      <td>0.2</td>\n",
       "      <td>-0.664062</td>\n",
       "      <td>0.530244</td>\n",
       "      <td>0.000779</td>\n",
       "      <td>-0.003402</td>\n",
       "      <td>0.001487</td>\n",
       "      <td>-0.022542</td>\n",
       "      <td>0.000185</td>\n",
       "      <td>-0.001178</td>\n",
       "      <td>0.001656</td>\n",
       "    </tr>\n",
       "    <tr>\n",
       "      <th>4</th>\n",
       "      <td>0.2</td>\n",
       "      <td>-0.625000</td>\n",
       "      <td>0.528876</td>\n",
       "      <td>0.000780</td>\n",
       "      <td>-0.008138</td>\n",
       "      <td>0.001523</td>\n",
       "      <td>-0.038619</td>\n",
       "      <td>0.000227</td>\n",
       "      <td>-0.004801</td>\n",
       "      <td>0.001689</td>\n",
       "    </tr>\n",
       "  </tbody>\n",
       "</table>\n",
       "</div>"
      ],
      "text/plain": [
       "     s         u         Q        sQ  E_linear  sE_linear  E_quadratic  \\\n",
       "0  0.2 -0.781250  0.527866  0.000774  0.004960   0.001598     0.038511   \n",
       "1  0.2 -0.742188  0.530752  0.000772  0.005066   0.001481     0.022216   \n",
       "2  0.2 -0.703125  0.530757  0.000774 -0.000446   0.001598    -0.000140   \n",
       "3  0.2 -0.664062  0.530244  0.000779 -0.003402   0.001487    -0.022542   \n",
       "4  0.2 -0.625000  0.528876  0.000780 -0.008138   0.001523    -0.038619   \n",
       "\n",
       "   sE_quadratic  E_logarithmic  sE_logarithmic  \n",
       "0      0.000224       0.001256        0.001770  \n",
       "1      0.000188       0.003101        0.001650  \n",
       "2      0.000169      -0.000488        0.001781  \n",
       "3      0.000185      -0.001178        0.001656  \n",
       "4      0.000227      -0.004801        0.001689  "
      ]
     },
     "execution_count": 21,
     "metadata": {},
     "output_type": "execute_result"
    }
   ],
   "source": [
    "df=Dataframe(strip_width,pitch,slist,snoise,N,strip_centers,electron_cloud_centers,seed,threshold)\n",
    "df.head()"
   ]
  },
  {
   "cell_type": "code",
   "execution_count": 22,
   "metadata": {},
   "outputs": [],
   "source": [
    "def Plot_Charge_or_Error(Name,slist, df, markers, markersizes,ymin,ymax,Title,Ylabel):\n",
    "    for s in slist:\n",
    "        t=r'$\\sigma $ '+' '+str(s)+\"mm\"\n",
    "        plt.errorbar(df.loc[df['s'].isin([s]),'u'], df.loc[df['s'].isin([s]),Name], marker=markers[slist.index(s)],markersize=markersizes[slist.index(s)], linestyle='' ,label=t,xerr=0, yerr=df.loc[df['s'].isin([s]),'sE_linear'])\n",
    "    ax = plt.gca()\n",
    "    handles, labels = ax.get_legend_handles_labels()\n",
    "    handles = [h[0] if isinstance(h, container.ErrorbarContainer) else h for h in handles]\n",
    "    ax.legend(handles, labels,loc='upper right')\n",
    "    plt.title(Title)\n",
    "    plt.ylabel(Ylabel) \n",
    "    plt.ylim(ymin,ymax)\n",
    "    plt.xlabel(r'$\\mu$ (mm)')\n",
    "    plt.grid(True)\n",
    "    plt.show()"
   ]
  },
  {
   "cell_type": "code",
   "execution_count": 23,
   "metadata": {
    "scrolled": true
   },
   "outputs": [
    {
     "data": {
      "image/png": "[encoded data removed]",
      "text/plain": [
       "<Figure size 432x288 with 1 Axes>"
      ]
     },
     "metadata": {
      "needs_background": "light"
     },
     "output_type": "display_data"
    }
   ],
   "source": [
    "markers=['s','^','P','*','x']\n",
    "markersizes=[4,4,4,14/3,4]\n",
    "ymax=0.6\n",
    "ymin=0.45\n",
    "\n",
    "Title={\"Q\":\"Collected charge\"}\n",
    "Title_pt={\"Q\":'Carga coletada pelas fitas'}\n",
    "Ylabel={\"Q\":'Fraction of collected charge'}\n",
    "Ylabel_pt={\"Q\":'Fração de carga coletada'}\n",
    "Plot_Charge_or_Error('Q',slist, df, markers, markersizes,ymin,ymax,Title[\"Q\"],Ylabel['Q'])"
   ]
  },
  {
   "cell_type": "code",
   "execution_count": 24,
   "metadata": {},
   "outputs": [
    {
     "data": {
      "image/png": "[encoded data removed]",
      "text/plain": [
       "<Figure size 432x288 with 1 Axes>"
      ]
     },
     "metadata": {
      "needs_background": "light"
     },
     "output_type": "display_data"
    },
    {
     "data": {
      "image/png": "[encoded data removed]",
      "text/plain": [
       "<Figure size 432x288 with 1 Axes>"
      ]
     },
     "metadata": {
      "needs_background": "light"
     },
     "output_type": "display_data"
    },
    {
     "data": {
      "image/png": "[encoded data removed]",
      "text/plain": [
       "<Figure size 432x288 with 1 Axes>"
      ]
     },
     "metadata": {
      "needs_background": "light"
     },
     "output_type": "display_data"
    }
   ],
   "source": [
    "ymin=-0.045\n",
    "ymax=0.045\n",
    "\n",
    "Title={\"E_linear\":\"Position reconstruction using a linear weight\",\n",
    "       \"E_quadratic\":\"Position reconstruction using a squared weight\",\n",
    "       \"E_logarithmic\": \"Position reconstruction using a logarithmic weight\"}\n",
    "Ylabel={\"E\":'Error (mm)'}\n",
    "\n",
    "Title_pt={ \"E_linear\":\"Reconstrução da posição usando peso linear\",\n",
    "          \"E_quadratic\":\"Reconstrução da posição usando peso quadrático\",\n",
    "          \"E_logarithmic\": \"Reconstrução da posição usando peso logaritmico\"}\n",
    "Ylabel_pt={\"E\":'Erro (mm)'}\n",
    "\n",
    "Plot_Charge_or_Error(\"E_linear\",slist, df, markers, markersizes,ymin,ymax,Title[\"E_linear\"],Ylabel['E'])\n",
    "Plot_Charge_or_Error(\"E_quadratic\",slist, df, markers, markersizes,ymin,ymax,Title[\"E_quadratic\"],Ylabel['E'])\n",
    "Plot_Charge_or_Error(\"E_logarithmic\",slist, df, markers, markersizes,ymin,ymax,Title[\"E_logarithmic\"],Ylabel['E'])"
   ]
  },
  {
   "cell_type": "markdown",
   "metadata": {},
   "source": [
    "## Comparing the three methods for position reconstruction\n",
    "\n",
    "\\begin{equation}\n",
    "RMS=\\sqrt{\\frac{1}{M} \\sum_{k}^{M} \\overline{Error} \\left(\\mu_k\\right)^{2}}\n",
    "\\end{equation} "
   ]
  },
  {
   "cell_type": "code",
   "execution_count": 25,
   "metadata": {},
   "outputs": [],
   "source": [
    "def RMS(v):\n",
    "    return np.sqrt((v*v).sum()/len(v))\n",
    "\n",
    "def RMS_Dataframe(slist,df):\n",
    "    Data=[]\n",
    "    for s in slist:\n",
    "        Data.append([s,\n",
    "                     RMS(df.loc[df['s'].isin([s]),'E_linear']), \n",
    "                     RMS(df.loc[df['s'].isin([s]),'E_quadratic']), \n",
    "                     RMS(df.loc[df['s'].isin([s]),'E_logarithmic'])])\n",
    "    RMS_df = pd.DataFrame(Data,columns=['s','E_linear','E_quadratic','E_logarithmic'])\n",
    "    return RMS_df\n",
    "\n",
    "def Plot_RMS(RMS_df,Labels):\n",
    "    plt.title(Labels[\"Title\"]) \n",
    "    plt.plot(RMS_df['s'],RMS_df['E_linear'],marker=markers[0], markersize=markersizes[0]*1.5,linestyle='' ,label=\"Linear weight\")\n",
    "    plt.plot(RMS_df['s'],RMS_df['E_quadratic'],marker=markers[1],  markersize=markersizes[1]*1.5, linestyle='' ,label=\"Squared weight\")\n",
    "    plt.plot(RMS_df['s'],RMS_df['E_logarithmic'],marker=markers[2],  markersize=markersizes[2]*1.5,linestyle='' ,label=\"Logarithmic weight\")\n",
    "    plt.ylabel(Labels[\"ylabel\"]) \n",
    "    ax = plt.gca()\n",
    "    handles, labels = ax.get_legend_handles_labels()\n",
    "    handles = [h[0] if isinstance(h, container.ErrorbarContainer) else h for h in handles]\n",
    "    ax.legend(handles, labels,loc='upper right')\n",
    "    plt.xlabel(r'$\\sigma$ (mm)')  \n",
    "    plt.grid(True)\n",
    "    plt.show()"
   ]
  },
  {
   "cell_type": "code",
   "execution_count": 26,
   "metadata": {},
   "outputs": [
    {
     "data": {
      "text/html": [
       "<div>\n",
       "<style scoped>\n",
       "    .dataframe tbody tr th:only-of-type {\n",
       "        vertical-align: middle;\n",
       "    }\n",
       "\n",
       "    .dataframe tbody tr th {\n",
       "        vertical-align: top;\n",
       "    }\n",
       "\n",
       "    .dataframe thead th {\n",
       "        text-align: right;\n",
       "    }\n",
       "</style>\n",
       "<table border=\"1\" class=\"dataframe\">\n",
       "  <thead>\n",
       "    <tr style=\"text-align: right;\">\n",
       "      <th></th>\n",
       "      <th>s</th>\n",
       "      <th>E_linear</th>\n",
       "      <th>E_quadratic</th>\n",
       "      <th>E_logarithmic</th>\n",
       "    </tr>\n",
       "  </thead>\n",
       "  <tbody>\n",
       "    <tr>\n",
       "      <th>0</th>\n",
       "      <td>0.20</td>\n",
       "      <td>0.005295</td>\n",
       "      <td>0.029962</td>\n",
       "      <td>0.002981</td>\n",
       "    </tr>\n",
       "    <tr>\n",
       "      <th>1</th>\n",
       "      <td>0.25</td>\n",
       "      <td>0.002121</td>\n",
       "      <td>0.010426</td>\n",
       "      <td>0.002496</td>\n",
       "    </tr>\n",
       "    <tr>\n",
       "      <th>2</th>\n",
       "      <td>0.30</td>\n",
       "      <td>0.002603</td>\n",
       "      <td>0.002430</td>\n",
       "      <td>0.002871</td>\n",
       "    </tr>\n",
       "    <tr>\n",
       "      <th>3</th>\n",
       "      <td>0.35</td>\n",
       "      <td>0.002063</td>\n",
       "      <td>0.000809</td>\n",
       "      <td>0.002187</td>\n",
       "    </tr>\n",
       "    <tr>\n",
       "      <th>4</th>\n",
       "      <td>0.40</td>\n",
       "      <td>0.002019</td>\n",
       "      <td>0.000563</td>\n",
       "      <td>0.002137</td>\n",
       "    </tr>\n",
       "  </tbody>\n",
       "</table>\n",
       "</div>"
      ],
      "text/plain": [
       "      s  E_linear  E_quadratic  E_logarithmic\n",
       "0  0.20  0.005295     0.029962       0.002981\n",
       "1  0.25  0.002121     0.010426       0.002496\n",
       "2  0.30  0.002603     0.002430       0.002871\n",
       "3  0.35  0.002063     0.000809       0.002187\n",
       "4  0.40  0.002019     0.000563       0.002137"
      ]
     },
     "execution_count": 26,
     "metadata": {},
     "output_type": "execute_result"
    }
   ],
   "source": [
    "RMS_df=RMS_Dataframe(slist,df)\n",
    "RMS_df"
   ]
  },
  {
   "cell_type": "code",
   "execution_count": 27,
   "metadata": {},
   "outputs": [
    {
     "data": {
      "image/png": "[encoded data removed]",
      "text/plain": [
       "<Figure size 432x288 with 1 Axes>"
      ]
     },
     "metadata": {
      "needs_background": "light"
     },
     "output_type": "display_data"
    }
   ],
   "source": [
    "Labels={\"Title\":\"Comparing methods for position reconstruction\",\n",
    "        \"ylabel\":'RMS of the Error (mm)'}\n",
    "Labels_pt={\"Title\":\"Comparing methods for position reconstruction\",\n",
    "           \"ylabel\":'Erro do RMS (mm)'}\n",
    "Plot_RMS(RMS_df,Labels)"
   ]
  },
  {
   "cell_type": "markdown",
   "metadata": {},
   "source": [
    "## Discrete electron cloud\n",
    "\n",
    "No we are no longer model the electron cloud as a gaussian funtion, but a simulated data by the software Garfield++, as shown in the 2D histogram \"Electron cloud after multiplication 8 keV Photon $Ar/CO_2$ (70/30)\".\n"
   ]
  },
  {
   "cell_type": "markdown",
   "metadata": {},
   "source": [
    "### DATA\n",
    "\n",
    "Creating a Dataframe with the input data"
   ]
  },
  {
   "cell_type": "code",
   "execution_count": 28,
   "metadata": {
    "scrolled": true
   },
   "outputs": [
    {
     "data": {
      "text/html": [
       "<div>\n",
       "<style scoped>\n",
       "    .dataframe tbody tr th:only-of-type {\n",
       "        vertical-align: middle;\n",
       "    }\n",
       "\n",
       "    .dataframe tbody tr th {\n",
       "        vertical-align: top;\n",
       "    }\n",
       "\n",
       "    .dataframe thead th {\n",
       "        text-align: right;\n",
       "    }\n",
       "</style>\n",
       "<table border=\"1\" class=\"dataframe\">\n",
       "  <thead>\n",
       "    <tr style=\"text-align: right;\">\n",
       "      <th></th>\n",
       "      <th>x</th>\n",
       "      <th>y</th>\n",
       "      <th>E</th>\n",
       "    </tr>\n",
       "  </thead>\n",
       "  <tbody>\n",
       "    <tr>\n",
       "      <th>0</th>\n",
       "      <td>-1.024156</td>\n",
       "      <td>-1.187231</td>\n",
       "      <td>0.0</td>\n",
       "    </tr>\n",
       "    <tr>\n",
       "      <th>1</th>\n",
       "      <td>-1.024156</td>\n",
       "      <td>-1.185177</td>\n",
       "      <td>0.0</td>\n",
       "    </tr>\n",
       "    <tr>\n",
       "      <th>2</th>\n",
       "      <td>-1.024156</td>\n",
       "      <td>-1.183124</td>\n",
       "      <td>0.0</td>\n",
       "    </tr>\n",
       "    <tr>\n",
       "      <th>3</th>\n",
       "      <td>-1.024156</td>\n",
       "      <td>-1.181071</td>\n",
       "      <td>0.0</td>\n",
       "    </tr>\n",
       "    <tr>\n",
       "      <th>4</th>\n",
       "      <td>-1.024156</td>\n",
       "      <td>-1.179017</td>\n",
       "      <td>0.0</td>\n",
       "    </tr>\n",
       "  </tbody>\n",
       "</table>\n",
       "</div>"
      ],
      "text/plain": [
       "          x         y    E\n",
       "0 -1.024156 -1.187231  0.0\n",
       "1 -1.024156 -1.185177  0.0\n",
       "2 -1.024156 -1.183124  0.0\n",
       "3 -1.024156 -1.181071  0.0\n",
       "4 -1.024156 -1.179017  0.0"
      ]
     },
     "execution_count": 28,
     "metadata": {},
     "output_type": "execute_result"
    }
   ],
   "source": [
    "file=\"evt1.txt\"\n",
    "electron_cloud_df=pd.read_csv(file,sep='\\s+',header=None)\n",
    "electron_cloud_df.rename({0: 'x', 1: 'y',2:'E'}, axis=1, inplace=True)\n",
    "electron_cloud_df[['x','y']]=electron_cloud_df[['x','y']]/1000\n",
    "electron_cloud_df.head()"
   ]
  },
  {
   "cell_type": "code",
   "execution_count": 29,
   "metadata": {
    "scrolled": true
   },
   "outputs": [
    {
     "data": {
      "image/png": "[encoded data removed]",
      "text/plain": [
       "<Figure size 432x288 with 2 Axes>"
      ]
     },
     "metadata": {
      "needs_background": "light"
     },
     "output_type": "display_data"
    }
   ],
   "source": [
    "def Plot_Hist2d(x,y,z,nbins,Labels):\n",
    "    fig, ax = plt.subplots()\n",
    "    counts, xedges, yedges, im = ax.hist2d(x, y,bins=nbins,weights=z,cmap=cm.jet)\n",
    "    fig.colorbar(im, ax=ax,label=Labels[\"colorbar\"])\n",
    "    ax.set_ylim(-1,0.85)\n",
    "    ax.set_xlim(-1,0.85)\n",
    "    ax.set_xlabel(Labels[\"xlabel\"])\n",
    "    ax.set_ylabel(Labels[\"ylabel\"])\n",
    "    plt.title(Labels[\"Title\"])\n",
    "    plt.plot(0,0,\"*\",color=\"black\")\n",
    "    plt.show()\n",
    "    \n",
    "Labels={\"Title\": \"Electron cloud after multiplication \\n 8 keV Photon \"+r\"$Ar/CO_2$ (70/30)\",\n",
    "        \"xlabel\": \"X coordinates (mm)\",\n",
    "        \"ylabel\": \"Y coordinates (mm)\",\n",
    "        \"colorbar\": \"Electrons\"}\n",
    "Labels_pt={\"Title\": \"Nuvem de elétrons depois da multiplicação \\n Fóton de 8 KeV \"+r\"$Ar/CO_2$ (70/30)\",\n",
    "        \"xlabel\": 'Coordeadas em x (mm)',\n",
    "        \"ylabel\": 'Coordenadas em y (mm)',\n",
    "        \"colorbar\": \"Elétrons\"}\n",
    "Plot_Hist2d(electron_cloud_df['x'], electron_cloud_df['y'], electron_cloud_df['E'], 1000,Labels)"
   ]
  },
  {
   "cell_type": "markdown",
   "metadata": {},
   "source": [
    "### Projection of the electron cloud in x direction\n",
    "\n",
    "Since we have a monodimensional readout of strips, is cponvinient to make a projection of the data in x direction and than, use the same algorithms used for the analytical cloud analyses. To reduce the bins effect on the integration of the charge in the region of the strips, we are going to interpolate de data."
   ]
  },
  {
   "cell_type": "code",
   "execution_count": 30,
   "metadata": {},
   "outputs": [
    {
     "data": {
      "text/plain": [
       "[]"
      ]
     },
     "execution_count": 30,
     "metadata": {},
     "output_type": "execute_result"
    },
    {
     "data": {
      "image/png": "[encoded data removed]",
      "text/plain": [
       "<Figure size 432x288 with 1 Axes>"
      ]
     },
     "metadata": {
      "needs_background": "light"
     },
     "output_type": "display_data"
    }
   ],
   "source": [
    "def x_projection(df):\n",
    "    xprojection=df.groupby('x')['E'].sum().reset_index()\n",
    "    Bin=xprojection.iat[1,0]-xprojection.iat[0,0]\n",
    "    xprojection['E']=xprojection['E']/(xprojection['E']*Bin).sum()    \n",
    "    return xprojection['x'],xprojection['E']\n",
    "x_coordinate,charge_fraction=x_projection(electron_cloud_df)\n",
    "\n",
    "plt.hist(x_coordinate,weights=charge_fraction,bins=1000)\n",
    "plt.plot()"
   ]
  },
  {
   "cell_type": "code",
   "execution_count": 31,
   "metadata": {},
   "outputs": [],
   "source": [
    "def interpolation(x_coordinate,charge_density):\n",
    "    f=interp1d(x_coordinate, charge_density,kind='cubic')\n",
    "    n=50\n",
    "    x=np.linspace(x_coordinate[0],x_coordinate[len(x_coordinate)-1],num=n*len(x_coordinate),endpoint=True)\n",
    "    E=f(x)\n",
    "    return x,E\n",
    "x_coordinate_interpolate,charge_fraction_interpolate=interpolation(x_coordinate,charge_fraction)"
   ]
  },
  {
   "cell_type": "code",
   "execution_count": 32,
   "metadata": {},
   "outputs": [],
   "source": [
    "def Func_Normal(x, x0, sigma):\n",
    "    return (1/(sigma*np.sqrt(2*math.pi))) * np.exp(-(x - x0)**2 / (2.0 * sigma**2))"
   ]
  },
  {
   "cell_type": "code",
   "execution_count": 33,
   "metadata": {},
   "outputs": [],
   "source": [
    "mean = sum(x_coordinate * charge_fraction) / sum(charge_fraction)\n",
    "sigma = np.sqrt(sum(charge_fraction * (x_coordinate - mean)**2) / sum(charge_fraction))\n",
    "popt,pcov = curve_fit(Func_Normal, x_coordinate, charge_fraction, p0=[mean, sigma])\n",
    "s=popt[1]# popt[1] is the fit result for sigma "
   ]
  },
  {
   "cell_type": "code",
   "execution_count": 34,
   "metadata": {},
   "outputs": [],
   "source": [
    "def Plot_xProjection_fit(x_coordinate,charge_fraction,Position_strips,popt,pcov,Labels):\n",
    "    inc=np.sqrt(np.diagonal(pcov))   \n",
    "    fig = plt.figure()\n",
    "    gs = fig.add_gridspec(2, hspace=0,height_ratios=[2,1])\n",
    "    axs = gs.subplots(sharex=True)\n",
    "    title=Labels[\"Title\"]\n",
    "    fig.suptitle(title)\n",
    "    axs[0].hist(x_coordinate, weights=charge_fraction,bins=len(x_coordinate))\n",
    "    axs[0].plot(x_coordinate, Func_Normal(x_coordinate, *popt), 'r-',label='fit:'+r' $\\mu$='+one_significant_digit(popt[0],inc[0]).format2()+\"mm, \"+r'$\\sigma$='+one_significant_digit(popt[1],inc[1]).format2()+\"mm\")\n",
    "    axs[0].set_ylabel(Labels['0_ylabel'])\n",
    "    axs[0].set_ylim(0,3)\n",
    "    axs[0].legend(loc='upper right')\n",
    "    axs[0].xaxis.set_major_locator(MultipleLocator(0.4))\n",
    "    axs[0].xaxis.set_minor_locator(MultipleLocator(0.2))\n",
    "    Residuals=charge_fraction-Func_Normal(x_coordinate,*popt)\n",
    "    axs[1].plot(x_coordinate,Residuals,linestyle=\"None\",marker=\"*\",markersize=1,color='b')\n",
    "    axs[1].set_xlabel(Labels['xlabel'])\n",
    "    axs[1].set_ylabel(Labels['1_ylabel'])\n",
    "    axs[1].set_xlim(-1.2,1.2)\n",
    "    axs[1].grid(axis=\"y\") \n",
    "    rectangles=[k for k in Position_strips if k >-1.2 and k<1.2]\n",
    "    trans0 = transforms.blended_transform_factory(axs[0].transData, axs[0].transAxes)\n",
    "    trans1 = transforms.blended_transform_factory(axs[1].transData, axs[1].transAxes)\n",
    "    for i in rectangles:\n",
    "        rect0 = mpatches.Rectangle((i, 0), width=0.2, height=1, transform=trans0,color='red', alpha=0.5)\n",
    "        rect1 = mpatches.Rectangle((i, 0), width=0.2, height=1, transform=trans1,color='red', alpha=0.5)\n",
    "        axs[0].add_patch(rect0)\n",
    "        axs[1].add_patch(rect1)\n",
    "    plt.show()"
   ]
  },
  {
   "cell_type": "code",
   "execution_count": 35,
   "metadata": {
    "scrolled": false
   },
   "outputs": [
    {
     "data": {
      "image/png": "[encoded data removed]",
      "text/plain": [
       "<Figure size 432x288 with 2 Axes>"
      ]
     },
     "metadata": {
      "needs_background": "light"
     },
     "output_type": "display_data"
    }
   ],
   "source": [
    "Labels={\"Title\": \"Electron cloud projected in x direction\",\n",
    "        \"xlabel\": \"x coordinates (mm)\",\n",
    "        \"0_ylabel\": \"Charge (AU)\",\n",
    "         \"1_ylabel\": \"Residuals\"}\n",
    "\n",
    "Labels_pt={\"Title\": \"Projeção da nuvem de elétrons na direção x\",\n",
    "            \"xlabel\": \"Coordenadas em x (mm)\",\n",
    "            \"0_ylabel\": \"Carga (UA)\",\n",
    "            \"1_ylabel\": \"Resíduos\"}\n",
    "Plot_xProjection_fit(x_coordinate, charge_fraction,strip_centers,popt,pcov,Labels)"
   ]
  },
  {
   "cell_type": "code",
   "execution_count": 38,
   "metadata": {},
   "outputs": [],
   "source": [
    "def G_Dataframe(strip_width,pitch,s,snoise,N,Position_strips,x_coordinate,charge_fraction,electron_cloud_centers,seed,threshold):\n",
    "    Data=[]\n",
    "    for u in electron_cloud_centers:\n",
    "        x_new_coordinate=x_coordinate+u\n",
    "        Charge_strips=Strips_Integrator(strip_width,pitch,Position_strips).ChargeBins_Strip(x_new_coordinate,charge_fraction)\n",
    "        Charge,sCharge,E_linear,sE_linear,E_quadratic,sE_quadratic,E_logarithmic,sE_logarithmic=Monte_Carlo(snoise,N,u,Charge_strips,Position_strips,seed,threshold)\n",
    "        Data.append([s,u,Charge,sCharge,E_linear,sE_linear,E_quadratic,sE_quadratic,E_logarithmic,sE_logarithmic])\n",
    "    df = pd.DataFrame(Data, columns=[\"s\",\"u\",\"Q\",\"sQ\",\"E_linear\",\"sE_linear\",\"E_quadratic\",\"sE_quadratic\",\"E_logarithmic\",\"sE_logarithmic\"])\n",
    "    return df"
   ]
  },
  {
   "cell_type": "code",
   "execution_count": 39,
   "metadata": {},
   "outputs": [
    {
     "data": {
      "text/html": [
       "<div>\n",
       "<style scoped>\n",
       "    .dataframe tbody tr th:only-of-type {\n",
       "        vertical-align: middle;\n",
       "    }\n",
       "\n",
       "    .dataframe tbody tr th {\n",
       "        vertical-align: top;\n",
       "    }\n",
       "\n",
       "    .dataframe thead th {\n",
       "        text-align: right;\n",
       "    }\n",
       "</style>\n",
       "<table border=\"1\" class=\"dataframe\">\n",
       "  <thead>\n",
       "    <tr style=\"text-align: right;\">\n",
       "      <th></th>\n",
       "      <th>s</th>\n",
       "      <th>u</th>\n",
       "      <th>Q</th>\n",
       "      <th>sQ</th>\n",
       "      <th>E_linear</th>\n",
       "      <th>sE_linear</th>\n",
       "      <th>E_quadratic</th>\n",
       "      <th>sE_quadratic</th>\n",
       "      <th>E_logarithmic</th>\n",
       "      <th>sE_logarithmic</th>\n",
       "    </tr>\n",
       "  </thead>\n",
       "  <tbody>\n",
       "    <tr>\n",
       "      <th>0</th>\n",
       "      <td>0.213745</td>\n",
       "      <td>-0.781250</td>\n",
       "      <td>0.528116</td>\n",
       "      <td>0.000783</td>\n",
       "      <td>-0.004923</td>\n",
       "      <td>0.001630</td>\n",
       "      <td>0.021273</td>\n",
       "      <td>0.000278</td>\n",
       "      <td>-0.007422</td>\n",
       "      <td>0.001790</td>\n",
       "    </tr>\n",
       "    <tr>\n",
       "      <th>1</th>\n",
       "      <td>0.213745</td>\n",
       "      <td>-0.742188</td>\n",
       "      <td>0.529300</td>\n",
       "      <td>0.000787</td>\n",
       "      <td>-0.006578</td>\n",
       "      <td>0.001684</td>\n",
       "      <td>0.012264</td>\n",
       "      <td>0.000243</td>\n",
       "      <td>-0.008501</td>\n",
       "      <td>0.001852</td>\n",
       "    </tr>\n",
       "    <tr>\n",
       "      <th>2</th>\n",
       "      <td>0.213745</td>\n",
       "      <td>-0.703125</td>\n",
       "      <td>0.529687</td>\n",
       "      <td>0.000847</td>\n",
       "      <td>-0.007986</td>\n",
       "      <td>0.001760</td>\n",
       "      <td>-0.004308</td>\n",
       "      <td>0.000222</td>\n",
       "      <td>-0.008370</td>\n",
       "      <td>0.001941</td>\n",
       "    </tr>\n",
       "    <tr>\n",
       "      <th>3</th>\n",
       "      <td>0.213745</td>\n",
       "      <td>-0.664062</td>\n",
       "      <td>0.529731</td>\n",
       "      <td>0.000824</td>\n",
       "      <td>-0.010984</td>\n",
       "      <td>0.001721</td>\n",
       "      <td>-0.023443</td>\n",
       "      <td>0.000220</td>\n",
       "      <td>-0.009682</td>\n",
       "      <td>0.001900</td>\n",
       "    </tr>\n",
       "    <tr>\n",
       "      <th>4</th>\n",
       "      <td>0.213745</td>\n",
       "      <td>-0.625000</td>\n",
       "      <td>0.527404</td>\n",
       "      <td>0.000819</td>\n",
       "      <td>-0.013893</td>\n",
       "      <td>0.001711</td>\n",
       "      <td>-0.038993</td>\n",
       "      <td>0.000255</td>\n",
       "      <td>-0.011362</td>\n",
       "      <td>0.001886</td>\n",
       "    </tr>\n",
       "  </tbody>\n",
       "</table>\n",
       "</div>"
      ],
      "text/plain": [
       "          s         u         Q        sQ  E_linear  sE_linear  E_quadratic  \\\n",
       "0  0.213745 -0.781250  0.528116  0.000783 -0.004923   0.001630     0.021273   \n",
       "1  0.213745 -0.742188  0.529300  0.000787 -0.006578   0.001684     0.012264   \n",
       "2  0.213745 -0.703125  0.529687  0.000847 -0.007986   0.001760    -0.004308   \n",
       "3  0.213745 -0.664062  0.529731  0.000824 -0.010984   0.001721    -0.023443   \n",
       "4  0.213745 -0.625000  0.527404  0.000819 -0.013893   0.001711    -0.038993   \n",
       "\n",
       "   sE_quadratic  E_logarithmic  sE_logarithmic  \n",
       "0      0.000278      -0.007422        0.001790  \n",
       "1      0.000243      -0.008501        0.001852  \n",
       "2      0.000222      -0.008370        0.001941  \n",
       "3      0.000220      -0.009682        0.001900  \n",
       "4      0.000255      -0.011362        0.001886  "
      ]
     },
     "execution_count": 39,
     "metadata": {},
     "output_type": "execute_result"
    }
   ],
   "source": [
    "df=G_Dataframe(strip_width,pitch,s,snoise,N,strip_centers,x_coordinate_interpolate,charge_fraction_interpolate,electron_cloud_centers,seed,threshold)\n",
    "df.head()"
   ]
  },
  {
   "cell_type": "code",
   "execution_count": 40,
   "metadata": {},
   "outputs": [],
   "source": [
    "def Plot_Errors(df,label):\n",
    "    plt.errorbar(df['u'],df['E_linear'],marker='o',markersize=3, linestyle='',label=label['E_linear'],xerr=0, yerr=df['sE_linear'])\n",
    "    plt.errorbar(df['u'],df['E_quadratic'],marker='o',markersize=3, linestyle='',label=label['E_quadratic'],xerr=0, yerr=df['sE_quadratic'])\n",
    "    plt.errorbar(df['u'],df['E_logarithmic'],marker='o',markersize=3, linestyle='',label=label['E_logarithmic'],xerr=0, yerr=df['sE_logarithmic'])\n",
    "    plt.title(label['Title'])\n",
    "    plt.legend(loc='upper right')\n",
    "    plt.ylabel(label['ylabel'])\n",
    "    plt.xlabel(r'$\\mu$ (mm)')\n",
    "    plt.grid()\n",
    "    plt.show()"
   ]
  },
  {
   "cell_type": "code",
   "execution_count": 41,
   "metadata": {
    "scrolled": true
   },
   "outputs": [
    {
     "data": {
      "image/png": "[encoded data removed]",
      "text/plain": [
       "<Figure size 432x288 with 1 Axes>"
      ]
     },
     "metadata": {
      "needs_background": "light"
     },
     "output_type": "display_data"
    }
   ],
   "source": [
    "labels={'E_linear':'Linear weight',\n",
    "       'E_quadratic':'Squared weight',\n",
    "       'E_logarithmic':'Logarithmic weight',\n",
    "       'Title': 'Electron Cloud generated by Garfield++',\n",
    "       'ylabel': 'Errors (mm)'\n",
    "       }\n",
    "   \n",
    "labels_pt={'E_linear':'Peso linear',\n",
    "       'E_quadratic':'Peso quadrático',\n",
    "       'E_logarithmic':'Peso logarítmico',\n",
    "       'Title':'Nuvem de elétrons geradas pelo Garfield++',\n",
    "       'ylabel':'Erros (mm)'\n",
    "       }\n",
    "\n",
    "Plot_Errors(df,labels)"
   ]
  },
  {
   "cell_type": "code",
   "execution_count": null,
   "metadata": {},
   "outputs": [],
   "source": []
  }
 ],
 "metadata": {
  "kernelspec": {
   "display_name": "Python 3",
   "language": "python",
   "name": "python3"
  },
  "language_info": {
   "codemirror_mode": {
    "name": "ipython",
    "version": 3
   },
   "file_extension": ".py",
   "mimetype": "text/x-python",
   "name": "python",
   "nbconvert_exporter": "python",
   "pygments_lexer": "ipython3",
   "version": "3.8.5"
  }
 },
 "nbformat": 4,
 "nbformat_minor": 4
}
